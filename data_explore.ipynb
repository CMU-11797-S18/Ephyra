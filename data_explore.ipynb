{
 "cells": [
  {
   "cell_type": "code",
   "execution_count": 2,
   "metadata": {},
   "outputs": [],
   "source": [
    "import json\n",
    "import pdb\n",
    "data = json.loads(open(\"BioASQ-trainingDataset6b.json\",\"r\").read())"
   ]
  },
  {
   "cell_type": "code",
   "execution_count": 30,
   "metadata": {
    "collapsed": true
   },
   "outputs": [],
   "source": [
    "import numpy as np\n",
    "from nltk.tokenize import word_tokenize\n",
    "import string\n",
    "import re"
   ]
  },
  {
   "cell_type": "code",
   "execution_count": 3,
   "metadata": {
    "collapsed": true
   },
   "outputs": [],
   "source": [
    "from gensim.summarization.bm25 import get_bm25_weights\n"
   ]
  },
  {
   "cell_type": "code",
   "execution_count": 4,
   "metadata": {},
   "outputs": [
    {
     "data": {
      "text/plain": [
       "[u'questions']"
      ]
     },
     "execution_count": 4,
     "metadata": {},
     "output_type": "execute_result"
    }
   ],
   "source": [
    "data.keys()"
   ]
  },
  {
   "cell_type": "code",
   "execution_count": 23,
   "metadata": {
    "collapsed": true
   },
   "outputs": [],
   "source": [
    "snippets = data['questions'][0]['snippets']\n",
    "ideal_ans = data['questions'][0]['ideal_answer']\n",
    "query = data['questions'][0]['body'].replace('?','')"
   ]
  },
  {
   "cell_type": "code",
   "execution_count": 38,
   "metadata": {},
   "outputs": [
    {
     "name": "stdout",
     "output_type": "stream",
     "text": [
      "[[u'hirschsprung', u'disease', u'hscr', u'is', u'a', u'multifactorial', u'nonmendelian', u'disorder', u'in', u'which', u'rare', u'highpenetrance', u'coding', u'sequence', u'mutations', u'in', u'the', u'receptor', u'tyrosine', u'kinase', u'ret', u'contribute', u'to', u'risk', u'in', u'combination', u'with', u'mutations', u'at', u'other', u'genes'], [u'in', u'this', u'study', u'we', u'review', u'the', u'identification', u'of', u'genes', u'and', u'loci', u'involved', u'in', u'the', u'nonsyndromic', u'common', u'form', u'and', u'syndromic', u'mendelian', u'forms', u'of', u\"hirschsprung's\", u'disease', u'the', u'majority', u'of', u'the', u'identified', u'genes', u'are', u'related', u'to', u'mendelian', u'syndromic', u'forms', u'of', u\"hirschsprung's\", u'disease', u'the', u'nonmendelian', u'inheritance', u'of', u'sporadic', u'nonsyndromic', u\"hirschsprung's\", u'disease', u'proved', u'to', u'be', u'complex', u'involvement', u'of', u'multiple', u'loci', u'was', u'demonstrated', u'in', u'a', u'multiplicative', u'model'], [u'coding', u'sequence', u'mutations', u'in', u'eg', u'ret', u'gdnf', u'ednrb', u'edn3', u'and', u'sox10', u'lead', u'to', u'longsegment', u'lhscr', u'as', u'well', u'as', u'syndromic', u'hscr', u'but', u'fail', u'to', u'explain', u'the', u'transmission', u'of', u'the', u'much', u'more', u'common', u'shortsegment', u'form', u'shscr', u'furthermore', u'mutations', u'in', u'the', u'ret', u'gene', u'are', u'responsible', u'for', u'approximately', u'half', u'of', u'the', u'familial', u'and', u'some', u'sporadic', u'cases', u'strongly', u'suggesting', u'on', u'the', u'one', u'hand', u'the', u'importance', u'of', u'noncoding', u'variations', u'and', u'on', u'the', u'other', u'hand', u'that', u'additional', u'genes', u'involved', u'in', u'the', u'development', u'of', u'the', u'enteric', u'nervous', u'system', u'still', u'await', u'their', u'discovery'], [u'for', u'almost', u'all', u'of', u'the', u'identified', u'hscr', u'genes', u'incomplete', u'penetrance', u'of', u'the', u'hscr', u'phenotype', u'has', u'been', u'reported', u'probably', u'due', u'to', u'modifier', u'loci', u'therefore', u'hscr', u'has', u'become', u'a', u'model', u'for', u'a', u'complex', u'oligopolygenic', u'disorder', u'in', u'which', u'the', u'relationship', u'between', u'different', u'genes', u'creating', u'a', u'nonmendelian', u'inheritance', u'pattern', u'still', u'remains', u'to', u'be', u'elucidated'], [u'hirschsprung', u'disease', u'hscr', u'is', u'a', u'multifactorial', u'nonmendelian', u'disorder', u'in', u'which', u'rare', u'highpenetrance', u'coding', u'sequence', u'mutations', u'in', u'the', u'receptor', u'tyrosine', u'kinase', u'ret', u'contribute', u'to', u'risk', u'in', u'combination', u'with', u'mutations', u'at', u'other', u'genes'], [u'the', u'inheritance', u'of', u'hirschsprung', u'disease', u'is', u'generally', u'consistent', u'with', u'sexmodified', u'multifactorial', u'inheritance', u'with', u'a', u'lower', u'threshold', u'of', u'expression', u'in', u'males'], [u'hirschsprung', u'disease', u'hscr', u'is', u'a', u'multifactorial', u'nonmendelian', u'disorder', u'in', u'which', u'rare', u'highpenetrance', u'coding', u'sequence', u'mutations', u'in', u'the', u'receptor', u'tyrosine', u'kinase', u'ret', u'contribute', u'to', u'risk', u'in', u'combination', u'with', u'mutations', u'at', u'other', u'genes'], [u'differential', u'contributions', u'of', u'rare', u'and', u'common', u'coding', u'and', u'noncoding', u'ret', u'mutations', u'to', u'multifactorial', u'hirschsprung', u'disease', u'liability'], [u'background', u'ret', u'is', u'the', u'major', u'gene', u'associated', u'to', u'hirschsprung', u'disease', u'hscr', u'with', u'differential', u'contributions', u'of', u'its', u'rare', u'and', u'common', u'coding', u'and', u'noncoding', u'mutations', u'to', u'the', u'multifactorial', u'nature', u'of', u'this', u'pathology'], [u'in', u'the', u'etiology', u'of', u'hirschsprung', u'disease', u'various', u'genes', u'play', u'a', u'role', u'these', u'are', u'ret', u'ednrb', u'gdnf', u'edn3', u'and', u'sox10', u'ntn3', u'ece1', u'mutations', u'in', u'these', u'genes', u'may', u'result', u'in', u'dominant', u'recessive', u'or', u'multifactorial', u'patterns', u'of', u'inheritance'], [u'chromosomal', u'and', u'related', u'mendelian', u'syndromes', u'associated', u'with', u\"hirschsprung's\", u'disease'], [u'the', u'majority', u'of', u'the', u'identified', u'genes', u'are', u'related', u'to', u'mendelian', u'syndromic', u'forms', u'of', u\"hirschsprung's\", u'disease'], [u'in', u'the', u'etiology', u'of', u'hirschsprung', u'disease', u'various', u'genes', u'play', u'a', u'role', u'these', u'are', u'ret', u'ednrb', u'gdnf', u'edn3', u'and', u'sox10', u'ntn3', u'ece1', u'mutations', u'in', u'these', u'genes', u'may', u'result', u'in', u'dominant', u'recessive', u'or', u'multifactorial', u'patterns', u'of', u'inheritance'], [u'on', u'the', u'basis', u'of', u'a', u'skewed', u'sexratio', u'mf', u'41', u'and', u'a', u'risk', u'to', u'relatives', u'much', u'higher', u'than', u'the', u'incidence', u'in', u'the', u'general', u'population', u'hscr', u'has', u'long', u'been', u'regarded', u'as', u'a', u'sexmodified', u'multifactorial', u'disorder'], [u'the', u'inheritance', u'of', u'hirschsprung', u'disease', u'is', u'generally', u'consistent', u'with', u'sexmodified', u'multifactorial', u'inheritance', u'with', u'a', u'lower', u'threshold', u'of', u'expression', u'in', u'males'], [u'the', u'nonmendelian', u'inheritance', u'of', u'sporadic', u'nonsyndromic', u\"hirschsprung's\", u'disease', u'proved', u'to', u'be', u'complex', u'involvement', u'of', u'multiple', u'loci', u'was', u'demonstrated', u'in', u'a', u'multiplicative', u'model']]\n"
     ]
    }
   ],
   "source": [
    "snippet_texts = [re.sub(r'['+string.punctuation.replace(\"\\'\",\"\")+']','',i['text']).lower().split() for i in snippets]\n",
    "print snippet_texts"
   ]
  },
  {
   "cell_type": "code",
   "execution_count": 24,
   "metadata": {},
   "outputs": [
    {
     "name": "stdout",
     "output_type": "stream",
     "text": [
      "[u\"Coding sequence mutations in RET, GDNF, EDNRB, EDN3, and SOX10 are involved in the development of Hirschsprung disease. The majority of these genes was shown to be related to Mendelian syndromic forms of Hirschsprung's disease, whereas the non-Mendelian inheritance of sporadic non-syndromic Hirschsprung disease proved to be complex; involvement of multiple loci was demonstrated in a multiplicative model.\"] Is Hirschsprung disease a mendelian or a multifactorial disorder\n"
     ]
    }
   ],
   "source": [
    "print ideal_ans, query"
   ]
  },
  {
   "cell_type": "code",
   "execution_count": 39,
   "metadata": {},
   "outputs": [
    {
     "name": "stdout",
     "output_type": "stream",
     "text": [
      "[[u'coding', u'sequence', u'mutations', u'in', u'ret', u'gdnf', u'ednrb', u'edn3', u'and', u'sox10', u'are', u'involved', u'in', u'the', u'development', u'of', u'hirschsprung', u'disease', u'the', u'majority', u'of', u'these', u'genes', u'was', u'shown', u'to', u'be', u'related', u'to', u'mendelian', u'syndromic', u'forms', u'of', u\"hirschsprung's\", u'disease', u'whereas', u'the', u'nonmendelian', u'inheritance', u'of', u'sporadic', u'nonsyndromic', u'hirschsprung', u'disease', u'proved', u'to', u'be', u'complex', u'involvement', u'of', u'multiple', u'loci', u'was', u'demonstrated', u'in', u'a', u'multiplicative', u'model']]\n",
      "[[u'is', u'hirschsprung', u'disease', u'a', u'mendelian', u'or', u'a', u'multifactorial', u'disorder']]\n"
     ]
    }
   ],
   "source": [
    "ideal_ans_tokens = [re.sub(r'['+string.punctuation.replace(\"\\'\",\"\")+']','',i).lower().split() for i in ideal_ans]\n",
    "query_tokens = [re.sub(r'['+string.punctuation.replace(\"\\'\",\"\")+']','',query).lower().split()]\n",
    "print ideal_ans_tokens\n",
    "print query_tokens"
   ]
  },
  {
   "cell_type": "code",
   "execution_count": 42,
   "metadata": {},
   "outputs": [
    {
     "name": "stdout",
     "output_type": "stream",
     "text": [
      "[[u'is', u'hirschsprung', u'disease', u'a', u'mendelian', u'or', u'a', u'multifactorial', u'disorder'], [u'coding', u'sequence', u'mutations', u'in', u'ret', u'gdnf', u'ednrb', u'edn3', u'and', u'sox10', u'are', u'involved', u'in', u'the', u'development', u'of', u'hirschsprung', u'disease', u'the', u'majority', u'of', u'these', u'genes', u'was', u'shown', u'to', u'be', u'related', u'to', u'mendelian', u'syndromic', u'forms', u'of', u\"hirschsprung's\", u'disease', u'whereas', u'the', u'nonmendelian', u'inheritance', u'of', u'sporadic', u'nonsyndromic', u'hirschsprung', u'disease', u'proved', u'to', u'be', u'complex', u'involvement', u'of', u'multiple', u'loci', u'was', u'demonstrated', u'in', u'a', u'multiplicative', u'model'], [u'hirschsprung', u'disease', u'hscr', u'is', u'a', u'multifactorial', u'nonmendelian', u'disorder', u'in', u'which', u'rare', u'highpenetrance', u'coding', u'sequence', u'mutations', u'in', u'the', u'receptor', u'tyrosine', u'kinase', u'ret', u'contribute', u'to', u'risk', u'in', u'combination', u'with', u'mutations', u'at', u'other', u'genes'], [u'in', u'this', u'study', u'we', u'review', u'the', u'identification', u'of', u'genes', u'and', u'loci', u'involved', u'in', u'the', u'nonsyndromic', u'common', u'form', u'and', u'syndromic', u'mendelian', u'forms', u'of', u\"hirschsprung's\", u'disease', u'the', u'majority', u'of', u'the', u'identified', u'genes', u'are', u'related', u'to', u'mendelian', u'syndromic', u'forms', u'of', u\"hirschsprung's\", u'disease', u'the', u'nonmendelian', u'inheritance', u'of', u'sporadic', u'nonsyndromic', u\"hirschsprung's\", u'disease', u'proved', u'to', u'be', u'complex', u'involvement', u'of', u'multiple', u'loci', u'was', u'demonstrated', u'in', u'a', u'multiplicative', u'model'], [u'coding', u'sequence', u'mutations', u'in', u'eg', u'ret', u'gdnf', u'ednrb', u'edn3', u'and', u'sox10', u'lead', u'to', u'longsegment', u'lhscr', u'as', u'well', u'as', u'syndromic', u'hscr', u'but', u'fail', u'to', u'explain', u'the', u'transmission', u'of', u'the', u'much', u'more', u'common', u'shortsegment', u'form', u'shscr', u'furthermore', u'mutations', u'in', u'the', u'ret', u'gene', u'are', u'responsible', u'for', u'approximately', u'half', u'of', u'the', u'familial', u'and', u'some', u'sporadic', u'cases', u'strongly', u'suggesting', u'on', u'the', u'one', u'hand', u'the', u'importance', u'of', u'noncoding', u'variations', u'and', u'on', u'the', u'other', u'hand', u'that', u'additional', u'genes', u'involved', u'in', u'the', u'development', u'of', u'the', u'enteric', u'nervous', u'system', u'still', u'await', u'their', u'discovery'], [u'for', u'almost', u'all', u'of', u'the', u'identified', u'hscr', u'genes', u'incomplete', u'penetrance', u'of', u'the', u'hscr', u'phenotype', u'has', u'been', u'reported', u'probably', u'due', u'to', u'modifier', u'loci', u'therefore', u'hscr', u'has', u'become', u'a', u'model', u'for', u'a', u'complex', u'oligopolygenic', u'disorder', u'in', u'which', u'the', u'relationship', u'between', u'different', u'genes', u'creating', u'a', u'nonmendelian', u'inheritance', u'pattern', u'still', u'remains', u'to', u'be', u'elucidated'], [u'hirschsprung', u'disease', u'hscr', u'is', u'a', u'multifactorial', u'nonmendelian', u'disorder', u'in', u'which', u'rare', u'highpenetrance', u'coding', u'sequence', u'mutations', u'in', u'the', u'receptor', u'tyrosine', u'kinase', u'ret', u'contribute', u'to', u'risk', u'in', u'combination', u'with', u'mutations', u'at', u'other', u'genes'], [u'the', u'inheritance', u'of', u'hirschsprung', u'disease', u'is', u'generally', u'consistent', u'with', u'sexmodified', u'multifactorial', u'inheritance', u'with', u'a', u'lower', u'threshold', u'of', u'expression', u'in', u'males'], [u'hirschsprung', u'disease', u'hscr', u'is', u'a', u'multifactorial', u'nonmendelian', u'disorder', u'in', u'which', u'rare', u'highpenetrance', u'coding', u'sequence', u'mutations', u'in', u'the', u'receptor', u'tyrosine', u'kinase', u'ret', u'contribute', u'to', u'risk', u'in', u'combination', u'with', u'mutations', u'at', u'other', u'genes'], [u'differential', u'contributions', u'of', u'rare', u'and', u'common', u'coding', u'and', u'noncoding', u'ret', u'mutations', u'to', u'multifactorial', u'hirschsprung', u'disease', u'liability'], [u'background', u'ret', u'is', u'the', u'major', u'gene', u'associated', u'to', u'hirschsprung', u'disease', u'hscr', u'with', u'differential', u'contributions', u'of', u'its', u'rare', u'and', u'common', u'coding', u'and', u'noncoding', u'mutations', u'to', u'the', u'multifactorial', u'nature', u'of', u'this', u'pathology'], [u'in', u'the', u'etiology', u'of', u'hirschsprung', u'disease', u'various', u'genes', u'play', u'a', u'role', u'these', u'are', u'ret', u'ednrb', u'gdnf', u'edn3', u'and', u'sox10', u'ntn3', u'ece1', u'mutations', u'in', u'these', u'genes', u'may', u'result', u'in', u'dominant', u'recessive', u'or', u'multifactorial', u'patterns', u'of', u'inheritance'], [u'chromosomal', u'and', u'related', u'mendelian', u'syndromes', u'associated', u'with', u\"hirschsprung's\", u'disease'], [u'the', u'majority', u'of', u'the', u'identified', u'genes', u'are', u'related', u'to', u'mendelian', u'syndromic', u'forms', u'of', u\"hirschsprung's\", u'disease'], [u'in', u'the', u'etiology', u'of', u'hirschsprung', u'disease', u'various', u'genes', u'play', u'a', u'role', u'these', u'are', u'ret', u'ednrb', u'gdnf', u'edn3', u'and', u'sox10', u'ntn3', u'ece1', u'mutations', u'in', u'these', u'genes', u'may', u'result', u'in', u'dominant', u'recessive', u'or', u'multifactorial', u'patterns', u'of', u'inheritance'], [u'on', u'the', u'basis', u'of', u'a', u'skewed', u'sexratio', u'mf', u'41', u'and', u'a', u'risk', u'to', u'relatives', u'much', u'higher', u'than', u'the', u'incidence', u'in', u'the', u'general', u'population', u'hscr', u'has', u'long', u'been', u'regarded', u'as', u'a', u'sexmodified', u'multifactorial', u'disorder'], [u'the', u'inheritance', u'of', u'hirschsprung', u'disease', u'is', u'generally', u'consistent', u'with', u'sexmodified', u'multifactorial', u'inheritance', u'with', u'a', u'lower', u'threshold', u'of', u'expression', u'in', u'males'], [u'the', u'nonmendelian', u'inheritance', u'of', u'sporadic', u'nonsyndromic', u\"hirschsprung's\", u'disease', u'proved', u'to', u'be', u'complex', u'involvement', u'of', u'multiple', u'loci', u'was', u'demonstrated', u'in', u'a', u'multiplicative', u'model']]\n"
     ]
    }
   ],
   "source": [
    "print query_tokens+ideal_ans_tokens+snippet_texts"
   ]
  },
  {
   "cell_type": "code",
   "execution_count": 47,
   "metadata": {},
   "outputs": [],
   "source": [
    "scores = np.array(get_bm25_weights(query_tokens+ideal_ans_tokens+snippet_texts))"
   ]
  },
  {
   "cell_type": "code",
   "execution_count": 51,
   "metadata": {},
   "outputs": [],
   "source": [
    "query_score = np.argsort(scores[0])[::-1][1:]\n",
    "ans_score = np.argsort(scores[1])[::-1][1:]"
   ]
  },
  {
   "cell_type": "code",
   "execution_count": 52,
   "metadata": {},
   "outputs": [
    {
     "name": "stdout",
     "output_type": "stream",
     "text": [
      "[11 14  2  6  8  1  3 16  7 15  5 10 12 13  9 17  4]\n",
      "[ 3 17  4 14 11  5 13  6  2  8 10  7 16 15  9 12  0]\n"
     ]
    }
   ],
   "source": [
    "print query_score\n",
    "print ans_score"
   ]
  },
  {
   "cell_type": "code",
   "execution_count": 53,
   "metadata": {},
   "outputs": [
    {
     "name": "stdout",
     "output_type": "stream",
     "text": [
      "[ 4.64297474  4.64297474  4.13275386  4.13275386  4.13275386  3.80770699\n",
      "  3.44197719  3.31239108  3.31239108  3.03828147  2.48305053  2.2019292\n",
      "  1.68171518  1.68171518  1.66569282  1.66569282  0.        ]\n",
      "[ 55.31630538  36.58471469  28.21387261  21.37066748  21.37066748\n",
      "  19.78652833  19.54467569  11.91099085  11.91099085  11.91099085\n",
      "  11.44597801  10.71288575  10.71288575   9.43291585   7.75423861\n",
      "   5.38653722   4.64205594]\n"
     ]
    }
   ],
   "source": [
    "print scores[0][query_score]\n",
    "print scores[1][ans_score]"
   ]
  },
  {
   "cell_type": "code",
   "execution_count": 55,
   "metadata": {},
   "outputs": [
    {
     "name": "stdout",
     "output_type": "stream",
     "text": [
      "9 :  In the etiology of Hirschsprung disease various genes play a role; these are: RET, EDNRB, GDNF, EDN3 and SOX10, NTN3, ECE1, Mutations in these genes may result in dominant, recessive or multifactorial patterns of inheritance.\n",
      "14 :  In the etiology of Hirschsprung disease various genes play a role; these are: RET, EDNRB, GDNF, EDN3 and SOX10, NTN3, ECE1, Mutations in these genes may result in dominant, recessive or multifactorial patterns of inheritance\n",
      "2 :  Hirschsprung disease (HSCR) is a multifactorial, non-mendelian disorder in which rare high-penetrance coding sequence mutations in the receptor tyrosine kinase RET contribute to risk in combination with mutations at other genes\n",
      "3 :  In this study, we review the identification of genes and loci involved in the non-syndromic common form and syndromic Mendelian forms of Hirschsprung's disease. The majority of the identified genes are related to Mendelian syndromic forms of Hirschsprung's disease. The non-Mendelian inheritance of sporadic non-syndromic Hirschsprung's disease proved to be complex; involvement of multiple loci was demonstrated in a multiplicative model\n",
      "17 :  The non-Mendelian inheritance of sporadic non-syndromic Hirschsprung's disease proved to be complex; involvement of multiple loci was demonstrated in a multiplicative model\n",
      "4 :  Coding sequence mutations in e.g. RET, GDNF, EDNRB, EDN3, and SOX10 lead to long-segment (L-HSCR) as well as syndromic HSCR but fail to explain the transmission of the much more common short-segment form (S-HSCR). Furthermore, mutations in the RET gene are responsible for approximately half of the familial and some sporadic cases, strongly suggesting, on the one hand, the importance of non-coding variations and, on the other hand, that additional genes involved in the development of the enteric nervous system still await their discovery\n"
     ]
    }
   ],
   "source": [
    "print '9 : ', snippets[11-2]['text']\n",
    "print '14 : ', snippets[14-2]['text']\n",
    "print '2 : ', snippets[0]['text']\n",
    "print '3 : ', snippets[1]['text']\n",
    "print '17 : ', snippets[15]['text']\n",
    "print '4 : ', snippets[2]['text']"
   ]
  },
  {
   "cell_type": "code",
   "execution_count": 56,
   "metadata": {},
   "outputs": [
    {
     "name": "stdout",
     "output_type": "stream",
     "text": [
      "[u\"Coding sequence mutations in RET, GDNF, EDNRB, EDN3, and SOX10 are involved in the development of Hirschsprung disease. The majority of these genes was shown to be related to Mendelian syndromic forms of Hirschsprung's disease, whereas the non-Mendelian inheritance of sporadic non-syndromic Hirschsprung disease proved to be complex; involvement of multiple loci was demonstrated in a multiplicative model.\"]\n"
     ]
    }
   ],
   "source": [
    "print ideal_ans"
   ]
  },
  {
   "cell_type": "code",
   "execution_count": null,
   "metadata": {
    "collapsed": true
   },
   "outputs": [],
   "source": [
    "def create_ranked_snippets(data):\n",
    "    "
   ]
  }
 ],
 "metadata": {
  "kernelspec": {
   "display_name": "Python 2",
   "language": "python",
   "name": "python2"
  },
  "language_info": {
   "codemirror_mode": {
    "name": "ipython",
    "version": 2
   },
   "file_extension": ".py",
   "mimetype": "text/x-python",
   "name": "python",
   "nbconvert_exporter": "python",
   "pygments_lexer": "ipython2",
   "version": "2.7.14"
  }
 },
 "nbformat": 4,
 "nbformat_minor": 2
}
